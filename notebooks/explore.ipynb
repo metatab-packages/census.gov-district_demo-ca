{
 "cells": [
  {
   "cell_type": "code",
   "execution_count": 1,
   "metadata": {},
   "outputs": [],
   "source": [
    "import seaborn as sns\n",
    "import metapack as mp\n",
    "import pandas as pd\n",
    "import numpy as np\n",
    "import matplotlib.pyplot as plt\n",
    "from IPython.display import display \n",
    "\n",
    "%matplotlib inline\n",
    "sns.set_context('notebook')\n",
    "mp.jupyter.init()\n"
   ]
  },
  {
   "cell_type": "code",
   "execution_count": 2,
   "metadata": {},
   "outputs": [
    {
     "data": {
      "text/html": [
       "<h1>Demographics for California School Districts</h1>\n",
       "<p><code>census.gov-district_demo-ca-1.2.1</code> Last Update: 2022-06-17T18:05:35</p>\n",
       "<p><em>Select tables of census data for California school districts</em></p>\n",
       "<p>This dataset collects the following Census tables for the \n",
       "sdelm ( Elementary district), sdsec ( Secondary district ) and\n",
       "sduni ( Unified ) school districts in California. </p>\n",
       "<ul>\n",
       "<li>B01003: Total Population</li>\n",
       "<li>B01001: Sex by Age</li>\n",
       "<li>B09001: Population Under 18 Years by Age</li>\n",
       "<li>C17001: Poverty Status by Sex by Age</li>\n",
       "<li>C17002: Ratio of Income to Poverty Level</li>\n",
       "<li>C15003: Educational Attainment</li>\n",
       "<li>B19081: Mean Household Income of Quintiles</li>\n",
       "<li>B25077: Median Value (Dollars)</li>\n",
       "<li>B02001: Race</li>\n",
       "<li>C03001: Hispanic or Latino Origin by Specific Origin</li>\n",
       "</ul>\n",
       "<h2>Contacts</h2>\n",
       "<ul>\n",
       "<li><strong>Wrangler</strong> <a href=\"mailto:eric@civicknowledge.com\">Eric Busboom</a>, <a href=\"http://civicknowledge.com\">Civic Knowledge</a></li>\n",
       "</ul>\n",
       "<h2>Resources</h2>\n",
       "<ul>\n",
       "<li><strong> <a href=\"data/ca_sd_demo.csv\">ca_sd_demo</a></strong>. California school district demographics</li>\n",
       "</ul>\n",
       "<h2>References</h2>\n",
       "<p><ul><li> <strong>ca_sd_links</string>, <em>metapack+http://library.metatab.org/sandiegodata.org-sd_demo_links-ca.csv#ca_sd_links</em>. Links between California data files and Census records</li><li> <strong>sdelm_b01003</string>, <em>census://2020/5/CA/sdelm/B01003</em>. Total Population, elementary</li><li> <strong>sdsec_b01003</string>, <em>census://2020/5/CA/sdsec/B01003</em>. Total Population, secondary</li><li> <strong>sduni_b01003</string>, <em>census://2020/5/CA/sduni/B01003</em>. Total Population, unified</li><li> <strong>sdelm_b01001</string>, <em>census://2020/5/CA/sdelm/B01001</em>. Sex By Age, elementary</li><li> <strong>sdsec_b01001</string>, <em>census://2020/5/CA/sdsec/B01001</em>. Sex By Age, secondary</li><li> <strong>sduni_b01001</string>, <em>census://2020/5/CA/sduni/B01001</em>. Sex By Age, unified</li><li> <strong>sdelm_b09001</string>, <em>census://2020/5/CA/sdelm/B09001</em>. Population Under 18 Years by Age, elementary</li><li> <strong>sdsec_b09001</string>, <em>census://2020/5/CA/sdsec/B09001</em>. Population Under 18 Years by Age, secondary</li><li> <strong>sduni_b09001</string>, <em>census://2020/5/CA/sduni/B09001</em>. Population Under 18 Years by Age, unified</li><li> <strong>sdelm_b17001</string>, <em>census://2020/5/CA/sdelm/B17001</em>. Poverty Status by Sex by Age, elementary</li><li> <strong>sdsec_b17001</string>, <em>census://2020/5/CA/sdsec/B17001</em>. Poverty Status by Sex by Age, secondary</li><li> <strong>sduni_b17001</string>, <em>census://2020/5/CA/sduni/B17001</em>. Poverty Status by Sex by Age, unified</li><li> <strong>sdelm_c17002</string>, <em>census://2020/5/CA/sdelm/C17002</em>. Ratio of Income to Poverty Level, elementary</li><li> <strong>sdsec_c17002</string>, <em>census://2020/5/CA/sdsec/C17002</em>. Ratio of Income to Poverty Level, secondary</li><li> <strong>sduni_c17002</string>, <em>census://2020/5/CA/sduni/C17002</em>. Ratio of Income to Poverty Level, unified</li><li> <strong>sdelm_b15003</string>, <em>census://2020/5/CA/sdelm/B15003</em>. Educational Attainment, elementary</li><li> <strong>sdsec_b15003</string>, <em>census://2020/5/CA/sdsec/B15003</em>. Educational Attainment, secondary</li><li> <strong>sduni_b15003</string>, <em>census://2020/5/CA/sduni/B15003</em>. Educational Attainment, unified</li><li> <strong>sdelm_b19081</string>, <em>census://2020/5/CA/sdelm/B19081</em>. Mean Household Income of Quintiles, elementary</li><li> <strong>sdsec_b19081</string>, <em>census://2020/5/CA/sdsec/B19081</em>. Mean Household Income of Quintiles, secondary</li><li> <strong>sduni_b19081</string>, <em>census://2020/5/CA/sduni/B19081</em>. Mean Household Income of Quintiles, unified</li><li> <strong>sdelm_b25077</string>, <em>census://2020/5/CA/sdelm/B25077</em>. Median Home Value (Dollars), elementary</li><li> <strong>sdsec_b25077</string>, <em>census://2020/5/CA/sdsec/B25077</em>. Median Home Value (Dollars), secondary</li><li> <strong>sduni_b25077</string>, <em>census://2020/5/CA/sduni/B25077</em>. Median Home Value (Dollars), unified</li><li> <strong>sdelm_b02001</string>, <em>census://2020/5/CA/sdelm/B02001</em>. Race, elementary</li><li> <strong>sdsec_b02001</string>, <em>census://2020/5/CA/sdsec/B02001</em>. Race, secondary</li><li> <strong>sduni_b02001</string>, <em>census://2020/5/CA/sduni/B02001</em>. Race, unified</li><li> <strong>sdelm_b03001</string>, <em>census://2020/5/CA/sdelm/B03001</em>. Hispanic or Latino Origin by Specific Origin, elementary</li><li> <strong>sdsec_b03001</string>, <em>census://2020/5/CA/sdsec/B03001</em>. Hispanic or Latino Origin by Specific Origin, secondary</li><li> <strong>sduni_b03001</string>, <em>census://2020/5/CA/sduni/B03001</em>. Hispanic or Latino Origin by Specific Origin, unified</li><ul></p>"
      ],
      "text/plain": [
       "# Demographics for California School Districts\n",
       "`census.gov-district_demo-ca-1.2.1` Last Update: 2022-06-17T18:05:35\n",
       "\n",
       "_Select tables of census data for California school districts_\n",
       "\n",
       "\n",
       "This dataset collects the following Census tables for the \n",
       "sdelm ( Elementary district), sdsec ( Secondary district ) and\n",
       "sduni ( Unified ) school districts in California. \n",
       "\n",
       "* B01003: Total Population\n",
       "* B01001: Sex by Age\n",
       "* B09001: Population Under 18 Years by Age\n",
       "* C17001: Poverty Status by Sex by Age\n",
       "* C17002: Ratio of Income to Poverty Level\n",
       "* C15003: Educational Attainment\n",
       "* B19081: Mean Household Income of Quintiles\n",
       "* B25077: Median Value (Dollars)\n",
       "* B02001: Race\n",
       "* C03001: Hispanic or Latino Origin by Specific Origin\n",
       "\n",
       "\n",
       " \n",
       "\n",
       "## Contacts\n",
       "\n",
       "* **Wrangler** [Eric Busboom](mailto:eric@civicknowledge.com), [Civic Knowledge](http://civicknowledge.com)\n",
       "\n",
       "## Resources\n",
       "\n",
       "* ** [ca_sd_demo](data/ca_sd_demo.csv)**. California school district demographics\n",
       "\n",
       "## References\n",
       "<ul><li> <strong>ca_sd_links</string>, <em>metapack+http://library.metatab.org/sandiegodata.org-sd_demo_links-ca.csv#ca_sd_links</em>. Links between California data files and Census records</li><li> <strong>sdelm_b01003</string>, <em>census://2020/5/CA/sdelm/B01003</em>. Total Population, elementary</li><li> <strong>sdsec_b01003</string>, <em>census://2020/5/CA/sdsec/B01003</em>. Total Population, secondary</li><li> <strong>sduni_b01003</string>, <em>census://2020/5/CA/sduni/B01003</em>. Total Population, unified</li><li> <strong>sdelm_b01001</string>, <em>census://2020/5/CA/sdelm/B01001</em>. Sex By Age, elementary</li><li> <strong>sdsec_b01001</string>, <em>census://2020/5/CA/sdsec/B01001</em>. Sex By Age, secondary</li><li> <strong>sduni_b01001</string>, <em>census://2020/5/CA/sduni/B01001</em>. Sex By Age, unified</li><li> <strong>sdelm_b09001</string>, <em>census://2020/5/CA/sdelm/B09001</em>. Population Under 18 Years by Age, elementary</li><li> <strong>sdsec_b09001</string>, <em>census://2020/5/CA/sdsec/B09001</em>. Population Under 18 Years by Age, secondary</li><li> <strong>sduni_b09001</string>, <em>census://2020/5/CA/sduni/B09001</em>. Population Under 18 Years by Age, unified</li><li> <strong>sdelm_b17001</string>, <em>census://2020/5/CA/sdelm/B17001</em>. Poverty Status by Sex by Age, elementary</li><li> <strong>sdsec_b17001</string>, <em>census://2020/5/CA/sdsec/B17001</em>. Poverty Status by Sex by Age, secondary</li><li> <strong>sduni_b17001</string>, <em>census://2020/5/CA/sduni/B17001</em>. Poverty Status by Sex by Age, unified</li><li> <strong>sdelm_c17002</string>, <em>census://2020/5/CA/sdelm/C17002</em>. Ratio of Income to Poverty Level, elementary</li><li> <strong>sdsec_c17002</string>, <em>census://2020/5/CA/sdsec/C17002</em>. Ratio of Income to Poverty Level, secondary</li><li> <strong>sduni_c17002</string>, <em>census://2020/5/CA/sduni/C17002</em>. Ratio of Income to Poverty Level, unified</li><li> <strong>sdelm_b15003</string>, <em>census://2020/5/CA/sdelm/B15003</em>. Educational Attainment, elementary</li><li> <strong>sdsec_b15003</string>, <em>census://2020/5/CA/sdsec/B15003</em>. Educational Attainment, secondary</li><li> <strong>sduni_b15003</string>, <em>census://2020/5/CA/sduni/B15003</em>. Educational Attainment, unified</li><li> <strong>sdelm_b19081</string>, <em>census://2020/5/CA/sdelm/B19081</em>. Mean Household Income of Quintiles, elementary</li><li> <strong>sdsec_b19081</string>, <em>census://2020/5/CA/sdsec/B19081</em>. Mean Household Income of Quintiles, secondary</li><li> <strong>sduni_b19081</string>, <em>census://2020/5/CA/sduni/B19081</em>. Mean Household Income of Quintiles, unified</li><li> <strong>sdelm_b25077</string>, <em>census://2020/5/CA/sdelm/B25077</em>. Median Home Value (Dollars), elementary</li><li> <strong>sdsec_b25077</string>, <em>census://2020/5/CA/sdsec/B25077</em>. Median Home Value (Dollars), secondary</li><li> <strong>sduni_b25077</string>, <em>census://2020/5/CA/sduni/B25077</em>. Median Home Value (Dollars), unified</li><li> <strong>sdelm_b02001</string>, <em>census://2020/5/CA/sdelm/B02001</em>. Race, elementary</li><li> <strong>sdsec_b02001</string>, <em>census://2020/5/CA/sdsec/B02001</em>. Race, secondary</li><li> <strong>sduni_b02001</string>, <em>census://2020/5/CA/sduni/B02001</em>. Race, unified</li><li> <strong>sdelm_b03001</string>, <em>census://2020/5/CA/sdelm/B03001</em>. Hispanic or Latino Origin by Specific Origin, elementary</li><li> <strong>sdsec_b03001</string>, <em>census://2020/5/CA/sdsec/B03001</em>. Hispanic or Latino Origin by Specific Origin, secondary</li><li> <strong>sduni_b03001</string>, <em>census://2020/5/CA/sduni/B03001</em>. Hispanic or Latino Origin by Specific Origin, unified</li><ul>\n"
      ]
     },
     "execution_count": 2,
     "metadata": {},
     "output_type": "execute_result"
    }
   ],
   "source": [
    "pkg = mp.jupyter.open_package()\n",
    "#pkg = mp.jupyter.open_source_package()\n",
    "pkg"
   ]
  },
  {
   "cell_type": "code",
   "execution_count": null,
   "metadata": {},
   "outputs": [],
   "source": [
    "pkg "
   ]
  }
 ],
 "metadata": {
  "kernelspec": {
   "display_name": "Python 3",
   "language": "python",
   "name": "python3"
  },
  "language_info": {
   "codemirror_mode": {
    "name": "ipython",
    "version": 3
   },
   "file_extension": ".py",
   "mimetype": "text/x-python",
   "name": "python",
   "nbconvert_exporter": "python",
   "pygments_lexer": "ipython3",
   "version": "3.7.6"
  }
 },
 "nbformat": 4,
 "nbformat_minor": 4
}
